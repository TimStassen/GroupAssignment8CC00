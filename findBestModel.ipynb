{
 "cells": [
  {
   "cell_type": "code",
   "execution_count": null,
   "metadata": {},
   "outputs": [],
   "source": [
    "import numpy as np\n",
    "import pandas as pd\n",
    "# from tkinter import filedialog as fd\n",
    "# from rdkit import Chem, DataStructs, RDLogger\n",
    "# from rdkit.Chem.Draw import IPythonConsole\n",
    "# from rdkit.Chem import Draw, Descriptors, AllChem\n",
    "# from rdkit.ML.Descriptors.MoleculeDescriptors import MolecularDescriptorCalculator\n",
    "\n",
    "# IPythonConsole.ipython_useSVG=True\n",
    "\n",
    "# import numpy as np\n",
    "# from sklearn.svm import SVC\n",
    "# from sklearn.ensemble import RandomForestClassifier, GradientBoostingClassifier\n",
    "# from sklearn.model_selection import train_test_split, StratifiedKFold, GridSearchCV\n",
    "# from sklearn.preprocessing import StandardScaler\n",
    "# from sklearn.metrics import accuracy_score, cohen_kappa_score, matthews_corrcoef\n",
    "# import joblib\n",
    "\n",
    "\n",
    "import MachineLearning as ML"
   ]
  },
  {
   "cell_type": "code",
   "execution_count": null,
   "metadata": {},
   "outputs": [],
   "source": [
    "smiles = pd.read_csv('tested_molecules-1.csv')\n",
    "smiles = smiles['SMILES']"
   ]
  },
  {
   "cell_type": "code",
   "execution_count": null,
   "metadata": {},
   "outputs": [],
   "source": [
    "allAHDL1inhibitors = ML.importFiles(nrFiles=2)\n",
    "ML.writeNewMolfile(allAHDL1inhibitors)\n"
   ]
  },
  {
   "cell_type": "code",
   "execution_count": null,
   "metadata": {},
   "outputs": [],
   "source": [
    "allDescrs = ML.createDescriptorDf()\n",
    "# allDescrs = allDescrs.drop(columns=[\"SMILES\"])\n",
    "x = ML.generateMorganFingerprint()\n",
    "y = allAHDL1inhibitors[1][1:].astype(int)\n",
    "sum(y)/len(y)\n",
    "x, xDims = ML.CombineDescriptorsAndFigerprints(x,allDescrs)\n"
   ]
  },
  {
   "cell_type": "code",
   "execution_count": null,
   "metadata": {},
   "outputs": [],
   "source": [
    "xScale = ML.scaleData(x,scaletype='standardize')\n",
    "xPrep, _ = ML.PCAfeatureReduction(xScale, 0.999)\n",
    "\n",
    "xTrain, xTest, yTrain, yTest, cv = ML.splitTrainTestData(xPrep,y,\n",
    "                                                         printSplit=True)"
   ]
  },
  {
   "cell_type": "code",
   "execution_count": null,
   "metadata": {},
   "outputs": [],
   "source": [
    "RFmodel, bestParam, RFgrid, param_grid, BestScoreRFgrid = ML.trainRF(xTrain, yTrain, cv)\n",
    "\n"
   ]
  },
  {
   "cell_type": "code",
   "execution_count": null,
   "metadata": {},
   "outputs": [],
   "source": [
    "predRF, balAccRF, pred_probRF = ML.testTrainedModel(xTest, yTest, model=RFmodel, \n",
    "                                              savedModelfilename=None, scaledData=True, \n",
    "                                              scaledDatafile=None)\n",
    "print(predRF,'\\n', balAccRF,'\\n', pred_probRF)\n",
    "ML.saveTrainedModel(RFmodel, 'RandomForestClassifier_PCA80_std') # optional"
   ]
  },
  {
   "attachments": {},
   "cell_type": "markdown",
   "metadata": {},
   "source": []
  },
  {
   "cell_type": "code",
   "execution_count": null,
   "metadata": {},
   "outputs": [],
   "source": [
    "SVCmodel, bestParam, RFgrid, param_grid, BestScoreRFgrid = ML.trainSVC(xTrain, yTrain, cv)"
   ]
  },
  {
   "cell_type": "code",
   "execution_count": null,
   "metadata": {},
   "outputs": [],
   "source": [
    "pred, balAcc, pred_prob = ML.testTrainedModel(xTest, \n",
    "                                              yTest, \n",
    "                                              model=SVCmodel, \n",
    "                                              savedModelfilename=None, \n",
    "                                              scaledData=True, \n",
    "                                              scaledDatafile=None)\n",
    "\n",
    "print(pred,'\\n', balAcc,'\\n', pred_prob)\n",
    "ML.saveTrainedModel(SVCmodel, 'SupportVectorClassifier_PCA80_std') # optional"
   ]
  },
  {
   "cell_type": "code",
   "execution_count": null,
   "metadata": {},
   "outputs": [],
   "source": []
  },
  {
   "cell_type": "code",
   "execution_count": null,
   "metadata": {},
   "outputs": [],
   "source": [
    "knnModel, bestParam, RFgrid, param_grid, BestScoreRFgrid = ML.trainKnn(xTrain, \n",
    "                                                                       yTrain, \n",
    "                                                                       cv, \n",
    "                                                                       list(range(1,31)))\n"
   ]
  },
  {
   "cell_type": "code",
   "execution_count": null,
   "metadata": {},
   "outputs": [],
   "source": [
    "pred, balAcc, pred_prob = ML.testTrainedModel(xTest, \n",
    "                                              yTest, \n",
    "                                              model=knnModel, \n",
    "                                              savedModelfilename=None, \n",
    "                                              scaledData=True, \n",
    "                                              scaledDatafile=None)\n",
    "\n",
    "print(pred,'\\n', balAcc,'\\n', pred_prob)\n",
    "ML.saveTrainedModel(knnModel, 'KnnClassifier_PCA80_std') # optional"
   ]
  },
  {
   "cell_type": "code",
   "execution_count": null,
   "metadata": {},
   "outputs": [],
   "source": [
    "daRF, threshAccRf, coverage= ML.thresholdedAccuracy(yTest, predRF, pred_probRF, threshold=0.8)\n",
    "coverage"
   ]
  },
  {
   "cell_type": "code",
   "execution_count": null,
   "metadata": {},
   "outputs": [],
   "source": [
    "threshAccRf"
   ]
  },
  {
   "cell_type": "code",
   "execution_count": null,
   "metadata": {},
   "outputs": [],
   "source": []
  }
 ],
 "metadata": {
  "kernelspec": {
   "display_name": "rdkit",
   "language": "python",
   "name": "python3"
  },
  "language_info": {
   "codemirror_mode": {
    "name": "ipython",
    "version": 3
   },
   "file_extension": ".py",
   "mimetype": "text/x-python",
   "name": "python",
   "nbconvert_exporter": "python",
   "pygments_lexer": "ipython3",
   "version": "3.11.3"
  },
  "orig_nbformat": 4
 },
 "nbformat": 4,
 "nbformat_minor": 2
}
