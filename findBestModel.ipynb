{
 "cells": [
  {
   "attachments": {},
   "cell_type": "markdown",
   "metadata": {},
   "source": [
    "### Find best perfoming model\n",
    "\n",
    "below a search for the best model is performed.\n",
    "For every time the notebook is runned following a knn, SVM and a FR model has been trained. \n",
    "Settings that have been adjested every run:\n",
    "        <ol>\n",
    "        <li> normalize scaling on PCA = 0.9 (PCA90 in filename) </li>\n",
    "        <li> standardize scaling on PCA = 0.9 (PCA90 in filename) </li>\n",
    "        <li> standardize scaling on PCA = 0.999 (PCA999 in filename) </li>\n",
    "        <li> standardize scaling on PCA = 0.8 (PCA80 in filename) </li>\n",
    "        <li> standardize scaling PCA is commented (PCA1 in filename) </li>\n",
    "        </ol>\n",
    "markdowns have been placed above the positions of the adjustments\n",
    "Metrics included: \n",
    "\n",
    "#### Please scroll through the notebook first, adjust the needed parameters and run it\n",
    "\n",
    "    "
   ]
  },
  {
   "cell_type": "code",
   "execution_count": null,
   "metadata": {},
   "outputs": [],
   "source": [
    "import numpy as np\n",
    "import pandas as pd\n",
    "import MachineLearning as ML # own functions"
   ]
  },
  {
   "cell_type": "code",
   "execution_count": null,
   "metadata": {},
   "outputs": [],
   "source": [
    "smiles = pd.read_csv('tested_molecules-1.csv')\n",
    "smiles = smiles['SMILES']"
   ]
  },
  {
   "cell_type": "code",
   "execution_count": null,
   "metadata": {},
   "outputs": [],
   "source": [
    "allAHDL1inhibitors = ML.importFiles(nrFiles=2)\n",
    "ML.writeNewMolfile(allAHDL1inhibitors)"
   ]
  },
  {
   "cell_type": "code",
   "execution_count": null,
   "metadata": {},
   "outputs": [],
   "source": [
    "allDescrs = ML.createDescriptorDf()\n",
    "# allDescrs = allDescrs.drop(columns=[\"SMILES\"])\n",
    "x = ML.generateMorganFingerprint()\n",
    "y = allAHDL1inhibitors[1][1:].astype(int)\n",
    "sum(y)/len(y)\n",
    "x, xDims = ML.CombineDescriptorsAndFigerprints(x,allDescrs)\n"
   ]
  },
  {
   "attachments": {},
   "cell_type": "markdown",
   "metadata": {},
   "source": [
    "### input needed\n",
    "next cell 'standardize' or 'normalize' can be inserted\n",
    "\n",
    "As well as the 'value' of PCAfeatureReduction(xScale, 'value'=int)"
   ]
  },
  {
   "cell_type": "code",
   "execution_count": null,
   "metadata": {},
   "outputs": [],
   "source": [
    "xScale = ML.scaleData(x,scaletype='standardize')\n",
    "# xPrep, _ = ML.PCAfeatureReduction(xScale, 0.999)\n",
    "xPrep = xScale\n",
    "xTrain, xTest, yTrain, yTest, cv = ML.splitTrainTestData(xPrep,y,\n",
    "                                                         printSplit=True)"
   ]
  },
  {
   "attachments": {},
   "cell_type": "markdown",
   "metadata": {},
   "source": [
    "### RFC model"
   ]
  },
  {
   "cell_type": "code",
   "execution_count": null,
   "metadata": {},
   "outputs": [],
   "source": [
    "if 'SMILES' in xTrain:\n",
    "    xTrain = xTrain.drop(columns=[\"SMILES\"])\n",
    "RFmodel, bestParam, RFgrid, param_grid, BestScoreRFgrid = ML.trainRF(xTrain, yTrain, cv)\n",
    "\n"
   ]
  },
  {
   "attachments": {},
   "cell_type": "markdown",
   "metadata": {},
   "source": [
    "## Do not forget to change: \n",
    "'RandomForestClassifier_PCAVALUE_SCALINGTYPE' in ML.saveTrainedModel\n",
    "\n",
    "For instance when in ML.PCAfeatureReduction(xScale, 0.9) and in ML.scaleData(x,scaletype='standardize')\n",
    "\n",
    " PCAVALUE = '90' and SCALINGTYPE = 'std'"
   ]
  },
  {
   "cell_type": "code",
   "execution_count": null,
   "metadata": {},
   "outputs": [],
   "source": [
    "if 'SMILES' in xTest:\n",
    "    xTest = xTest.drop(columns=[\"SMILES\"])\n",
    "    \n",
    "pred, balAcc, evaluationReport, confusionMatrix, predProb = ML.testTrainedModel(xTest,\n",
    "                                                                                 yTest, \n",
    "                                                                                 model=RFmodel, \n",
    "                                                                                 savedModelfilename=None, \n",
    "                                                                                 scaledData=True, \n",
    "                                                                                 scaledDatafile=None)\n",
    "print(pred,'\\n', 'Balanced Accuracy:  ', balAcc,'\\n', evaluationReport, '\\n', confusionMatrix, '\\n', predProb)\n",
    "ML.saveTrainedModel(RFmodel, 'RandomForestClassifier_PCA1_std') # optional"
   ]
  },
  {
   "cell_type": "code",
   "execution_count": null,
   "metadata": {},
   "outputs": [],
   "source": [
    "ThreshPreds, threshAcc, coverage= ML.thresholdedAccuracy(yTest, pred, predProb, threshold=0.7)\n",
    "print(threshAcc, '\\n', len(ThreshPreds))"
   ]
  },
  {
   "attachments": {},
   "cell_type": "markdown",
   "metadata": {},
   "source": [
    "### SVC model"
   ]
  },
  {
   "cell_type": "code",
   "execution_count": null,
   "metadata": {},
   "outputs": [],
   "source": [
    "SVCmodel, bestParam, RFgrid, param_grid, BestScoreRFgrid = ML.trainSVC(xTrain, yTrain, cv)"
   ]
  },
  {
   "attachments": {},
   "cell_type": "markdown",
   "metadata": {},
   "source": [
    "## Do not forget to change: \n",
    "'SupportVectorClassifier_PCAVALUE_SCALINGTYPE' in ML.saveTrainedModel\n",
    "\n",
    "For instance when in ML.PCAfeatureReduction(xScale, 0.9) and in ML.scaleData(x,scaletype='standardize')\n",
    "\n",
    " PCAVALUE = '90' and SCALINGTYPE = 'std'"
   ]
  },
  {
   "cell_type": "code",
   "execution_count": null,
   "metadata": {},
   "outputs": [],
   "source": [
    "pred, balAcc, evaluationReport, confusionMatrix, predProb = ML.testTrainedModel(xTest, \n",
    "                                                                                yTest, \n",
    "                                                                                model=SVCmodel, \n",
    "                                                                                savedModelfilename=None, \n",
    "                                                                                scaledData=True, \n",
    "                                                                                scaledDatafile=None)\n",
    "\n",
    "print(pred,'\\n', 'Balanced Accuracy:  ', balAcc,'\\n', evaluationReport, '\\n', confusionMatrix, '\\n', predProb)\n",
    "ML.saveTrainedModel(SVCmodel, 'SupportVectorClassifier_PCA1_std') # optional"
   ]
  },
  {
   "cell_type": "code",
   "execution_count": null,
   "metadata": {},
   "outputs": [],
   "source": [
    "ThreshPreds, threshAcc, coverage= ML.thresholdedAccuracy(yTest, pred, predProb, threshold=0.7)\n",
    "print(threshAcc, '\\n', len(ThreshPreds))"
   ]
  },
  {
   "cell_type": "code",
   "execution_count": null,
   "metadata": {},
   "outputs": [],
   "source": [
    "knnModel, bestParam, RFgrid, param_grid, BestScoreRFgrid = ML.trainKnn(xTrain, \n",
    "                                                                       yTrain, \n",
    "                                                                       cv, \n",
    "                                                                       list(range(1,31)))\n"
   ]
  },
  {
   "attachments": {},
   "cell_type": "markdown",
   "metadata": {},
   "source": [
    "## Do not forget to change: \n",
    "'KnnClassifier_PCAVALUE_SCALINGTYPE' in ML.saveTrainedModel\n",
    "\n",
    "For instance when in ML.PCAfeatureReduction(xScale, 0.9) and in ML.scaleData(x,scaletype='standardize')\n",
    "\n",
    " PCAVALUE = '90' and SCALINGTYPE = 'std'"
   ]
  },
  {
   "cell_type": "code",
   "execution_count": null,
   "metadata": {},
   "outputs": [],
   "source": [
    "pred, balAcc, evaluationReport, confusionMatrix, predProb = ML.testTrainedModel(xTest, \n",
    "                                                                                yTest, \n",
    "                                                                                model=knnModel, \n",
    "                                                                                savedModelfilename=None, \n",
    "                                                                                scaledData=True, \n",
    "                                                                                scaledDatafile=None)\n",
    "\n",
    "print(pred,'\\n', 'Balanced Accuracy:  ', balAcc,'\\n', evaluationReport, '\\n', confusionMatrix, '\\n', predProb)\n",
    "ML.saveTrainedModel(knnModel, 'KnnClassifier_PCA1_std') # optional"
   ]
  },
  {
   "cell_type": "code",
   "execution_count": null,
   "metadata": {},
   "outputs": [],
   "source": [
    "ThreshPreds, threshAcc, coverage= ML.thresholdedAccuracy(yTest, pred, predProb, threshold=0.7)\n",
    "print(threshAcc, '\\n', len(ThreshPreds))"
   ]
  },
  {
   "attachments": {},
   "cell_type": "markdown",
   "metadata": {},
   "source": [
    "#### when the best model is found: save the predictions (first 100)\n",
    "\n",
    "Best performing model is the Random Forest model with PCA 0.999 and standardized scaling \n",
    "\n",
    "predicting the top 100 molucules below:"
   ]
  },
  {
   "cell_type": "code",
   "execution_count": null,
   "metadata": {},
   "outputs": [],
   "source": [
    "\n",
    "top100MolsWithProbs = ML.top100molecules('RandomForestClassifier_PCA999_std.pkl', 0.999)\n",
    "top100Mols = top100MolsWithProbs['SMILES']\n",
    "top100Mols.to_csv('top100UntestedMolecules.csv', index=False)"
   ]
  },
  {
   "cell_type": "code",
   "execution_count": null,
   "metadata": {},
   "outputs": [],
   "source": []
  }
 ],
 "metadata": {
  "kernelspec": {
   "display_name": "rdkit",
   "language": "python",
   "name": "python3"
  },
  "language_info": {
   "codemirror_mode": {
    "name": "ipython",
    "version": 3
   },
   "file_extension": ".py",
   "mimetype": "text/x-python",
   "name": "python",
   "nbconvert_exporter": "python",
   "pygments_lexer": "ipython3",
   "version": "3.11.3"
  },
  "orig_nbformat": 4
 },
 "nbformat": 4,
 "nbformat_minor": 2
}
