{
 "cells": [
  {
   "cell_type": "code",
   "execution_count": null,
   "metadata": {},
   "outputs": [],
   "source": [
    "import numpy as np\n",
    "import pandas as pd\n",
    "# from tkinter import filedialog as fd\n",
    "# from rdkit import Chem, DataStructs, RDLogger\n",
    "# from rdkit.Chem.Draw import IPythonConsole\n",
    "# from rdkit.Chem import Draw, Descriptors, AllChem\n",
    "# from rdkit.ML.Descriptors.MoleculeDescriptors import MolecularDescriptorCalculator\n",
    "\n",
    "# IPythonConsole.ipython_useSVG=True\n",
    "\n",
    "# import numpy as np\n",
    "# from sklearn.svm import SVC\n",
    "# from sklearn.ensemble import RandomForestClassifier, GradientBoostingClassifier\n",
    "# from sklearn.model_selection import train_test_split, StratifiedKFold, GridSearchCV\n",
    "# from sklearn.preprocessing import StandardScaler\n",
    "# from sklearn.metrics import accuracy_score, cohen_kappa_score, matthews_corrcoef\n",
    "import joblib\n",
    "\n",
    "\n",
    "import MachineLearning as ML"
   ]
  },
  {
   "cell_type": "code",
   "execution_count": null,
   "metadata": {},
   "outputs": [],
   "source": [
    "smiles = pd.read_csv('tested_molecules-1.csv')\n",
    "smiles = smiles['SMILES']"
   ]
  },
  {
   "cell_type": "code",
   "execution_count": null,
   "metadata": {},
   "outputs": [],
   "source": [
    "allAHDL1inhibitors = ML.importFiles(nrFiles=2)\n",
    "ML.writeNewMolfile(allAHDL1inhibitors)"
   ]
  },
  {
   "cell_type": "code",
   "execution_count": null,
   "metadata": {},
   "outputs": [],
   "source": [
    "allDescrs = ML.createDescriptorDf()\n",
    "# allDescrs = allDescrs.drop(columns=[\"SMILES\"])\n",
    "x = ML.generateMorganFingerprint()\n",
    "y = allAHDL1inhibitors[1][1:].astype(int)\n",
    "sum(y)/len(y)\n",
    "x, xDims = ML.CombineDescriptorsAndFigerprints(x,allDescrs)"
   ]
  },
  {
   "cell_type": "code",
   "execution_count": null,
   "metadata": {},
   "outputs": [],
   "source": [
    "xScale = ML.scaleData(x,scaletype='standardize')\n",
    "# PCA not needed in testing the models\n",
    "# xPrep, _ = ML.PCAfeatureReduction(xScale, 0.999)\n",
    "xPrep = xScale\n",
    "\n",
    "# splitting is stil done due to the  seed, data is split the same as\n",
    "# in training so model still sees unseen samples\n",
    "xTrain, xTest, yTrain, yTest, cv = ML.splitTrainTestData(xPrep,y,\n",
    "                                                         printSplit=True)\n",
    "\n"
   ]
  },
  {
   "cell_type": "code",
   "execution_count": null,
   "metadata": {},
   "outputs": [],
   "source": [
    "# model in this case is the trained model \n",
    "\n",
    "# trainedModel = joblib.load(f\"RandomForestClassifier_PCA1_std.pkl\")\n",
    "\n",
    "predRF, balAccRF, pred_probRF = ML.testTrainedModel(xTest, yTest, model=None, \n",
    "                                              savedModelfilename=\"RandomForestClassifier_PCA1_std.pkl\",\n",
    "                                              scaledData=True, \n",
    "                                              scaledDatafile=None)\n",
    "print(predRF,'\\n', balAccRF,'\\n', pred_probRF)\n"
   ]
  }
 ],
 "metadata": {
  "language_info": {
   "name": "python"
  },
  "orig_nbformat": 4
 },
 "nbformat": 4,
 "nbformat_minor": 2
}
