{
 "cells": [
  {
   "cell_type": "code",
   "execution_count": 1,
   "metadata": {},
   "outputs": [],
   "source": [
    "import numpy as np\n",
    "import pandas as pd\n",
    "# from tkinter import filedialog as fd\n",
    "# from rdkit import Chem, DataStructs, RDLogger\n",
    "# from rdkit.Chem.Draw import IPythonConsole\n",
    "# from rdkit.Chem import Draw, Descriptors, AllChem\n",
    "# from rdkit.ML.Descriptors.MoleculeDescriptors import MolecularDescriptorCalculator\n",
    "\n",
    "# IPythonConsole.ipython_useSVG=True\n",
    "\n",
    "# import numpy as np\n",
    "# from sklearn.svm import SVC\n",
    "# from sklearn.ensemble import RandomForestClassifier, GradientBoostingClassifier\n",
    "# from sklearn.model_selection import train_test_split, StratifiedKFold, GridSearchCV\n",
    "# from sklearn.preprocessing import StandardScaler\n",
    "# from sklearn.metrics import accuracy_score, cohen_kappa_score, matthews_corrcoef\n",
    "import joblib\n",
    "\n",
    "\n",
    "import MachineLearning as ML"
   ]
  },
  {
   "cell_type": "code",
   "execution_count": 2,
   "metadata": {},
   "outputs": [],
   "source": [
    "smiles = pd.read_csv('tested_molecules-1.csv')\n",
    "smiles = smiles['SMILES']"
   ]
  },
  {
   "cell_type": "code",
   "execution_count": 3,
   "metadata": {},
   "outputs": [
    {
     "name": "stderr",
     "output_type": "stream",
     "text": [
      "2023-06-19 15:50:02.319 python[42224:1993816] +[CATransaction synchronize] called within transaction\n",
      "2023-06-19 15:50:02.578 python[42224:1993816] +[CATransaction synchronize] called within transaction\n",
      "2023-06-19 15:50:05.709 python[42224:1993816] +[CATransaction synchronize] called within transaction\n",
      "2023-06-19 15:50:05.930 python[42224:1993816] +[CATransaction synchronize] called within transaction\n"
     ]
    },
    {
     "name": "stdout",
     "output_type": "stream",
     "text": [
      "All molecules stored in: AllTestedMols.txt\n"
     ]
    }
   ],
   "source": [
    "allAHDL1inhibitors = ML.importFiles(nrFiles=2)\n",
    "ML.writeNewMolfile(allAHDL1inhibitors)"
   ]
  },
  {
   "cell_type": "code",
   "execution_count": 4,
   "metadata": {},
   "outputs": [],
   "source": [
    "allDescrs = ML.createDescriptorDf()\n",
    "# allDescrs = allDescrs.drop(columns=[\"SMILES\"])\n",
    "x = ML.generateMorganFingerprint()\n",
    "y = allAHDL1inhibitors[1][1:].astype(int)\n",
    "sum(y)/len(y)\n",
    "x, xDims = ML.CombineDescriptorsAndFigerprints(x,allDescrs)"
   ]
  },
  {
   "cell_type": "code",
   "execution_count": 38,
   "metadata": {},
   "outputs": [
    {
     "name": "stdout",
     "output_type": "stream",
     "text": [
      "\n",
      "Fold_1\n",
      "TRAIN: [   0    1    2 ... 1597 1598 1599]\n",
      "TEST: [   6   16   23   26   32   34   35   36   37   39   40   41   42   43\n",
      "   48   53   55   59   63   67   71   84   87   94   98  110  119  123\n",
      "  129  131  135  139  141  142  155  162  164  170  177  184  186  187\n",
      "  192  200  204  205  210  214  218  233  236  240  242  261  263  288\n",
      "  292  297  299  308  316  318  321  323  329  348  349  352  355  363\n",
      "  367  373  377  385  387  390  392  393  396  397  406  408  414  423\n",
      "  425  436  439  442  449  457  458  460  461  462  464  467  470  471\n",
      "  476  483  484  492  503  504  507  510  522  523  528  539  540  546\n",
      "  554  558  562  576  584  586  590  594  604  605  607  609  614  615\n",
      "  626  628  635  642  648  652  656  663  665  680  681  683  687  692\n",
      "  702  709  710  716  729  732  739  742  743  745  746  750  753  761\n",
      "  766  768  774  777  780  798  813  826  839  840  842  847  848  859\n",
      "  864  873  877  881  893  895  899  901  904  909  910  913  915  922\n",
      "  925  927  928  930  935  936  941  953  959  965  966  987  994 1003\n",
      " 1005 1018 1026 1035 1041 1045 1052 1058 1061 1062 1069 1070 1074 1082\n",
      " 1084 1087 1092 1097 1103 1104 1107 1111 1125 1146 1147 1151 1157 1161\n",
      " 1164 1168 1169 1171 1175 1180 1181 1184 1186 1190 1193 1195 1200 1203\n",
      " 1206 1207 1209 1230 1239 1242 1246 1251 1260 1261 1272 1276 1277 1279\n",
      " 1283 1285 1286 1288 1289 1293 1295 1296 1299 1305 1318 1326 1327 1328\n",
      " 1329 1331 1332 1334 1342 1346 1352 1359 1367 1369 1370 1375 1378 1382\n",
      " 1390 1395 1400 1406 1414 1415 1418 1419 1435 1436 1437 1439 1445 1452\n",
      " 1462 1467 1469 1474 1482 1485 1490 1492 1494 1501 1511 1518 1523 1537\n",
      " 1538 1546 1553 1567 1570 1572 1573 1576 1586 1589 1595 1596]\n",
      "\n",
      "Fold_2\n",
      "TRAIN: [   0    1    3 ... 1595 1596 1597]\n",
      "TEST: [   2    4    8   13   20   21   24   49   52   69   72   89   91  100\n",
      "  104  105  108  109  114  117  120  137  145  150  152  169  176  189\n",
      "  198  201  207  215  219  222  223  226  228  234  238  248  249  255\n",
      "  257  266  269  273  274  275  276  282  283  301  306  307  330  331\n",
      "  332  339  341  342  344  346  359  360  366  371  374  379  382  386\n",
      "  388  394  395  399  400  402  407  410  411  412  419  421  424  426\n",
      "  427  434  435  445  448  453  456  466  473  474  479  480  481  482\n",
      "  493  502  505  511  517  518  519  524  526  536  541  551  552  557\n",
      "  564  567  569  574  581  589  592  595  596  601  617  620  630  636\n",
      "  640  644  650  651  660  666  667  673  677  700  703  706  711  712\n",
      "  713  714  715  717  718  738  741  744  747  749  751  755  758  762\n",
      "  767  769  775  781  790  794  797  799  806  808  814  817  818  822\n",
      "  823  834  836  843  846  849  851  855  856  860  863  884  888  902\n",
      "  907  908  918  919  924  934  937  938  949  956  958  961  962  969\n",
      "  975  976  977  986  990  993 1000 1001 1002 1004 1007 1011 1012 1013\n",
      " 1014 1017 1019 1023 1024 1027 1034 1039 1040 1048 1049 1053 1060 1068\n",
      " 1073 1075 1076 1080 1086 1094 1098 1109 1121 1129 1137 1138 1139 1144\n",
      " 1145 1154 1165 1178 1179 1191 1197 1202 1212 1232 1245 1250 1254 1255\n",
      " 1265 1267 1268 1307 1308 1311 1319 1321 1325 1335 1336 1339 1341 1344\n",
      " 1347 1361 1362 1366 1368 1376 1380 1387 1389 1391 1398 1403 1404 1410\n",
      " 1412 1417 1423 1424 1425 1428 1433 1441 1448 1449 1458 1463 1484 1491\n",
      " 1496 1502 1515 1517 1521 1522 1528 1530 1532 1533 1540 1541 1549 1552\n",
      " 1554 1555 1558 1559 1560 1562 1568 1581 1582 1592 1598 1599]\n",
      "\n",
      "Fold_3\n",
      "TRAIN: [   1    2    3 ... 1597 1598 1599]\n",
      "TEST: [   0   14   15   19   25   28   30   33   44   45   51   56   57   60\n",
      "   62   78   80   81   82   83   86   88   90   93   95   96  101  103\n",
      "  106  112  113  115  118  124  130  136  144  146  149  160  161  163\n",
      "  167  185  194  195  203  224  229  230  232  237  239  241  244  245\n",
      "  247  251  259  260  265  267  270  271  272  278  281  285  300  311\n",
      "  314  325  326  327  334  347  350  353  365  369  383  391  404  405\n",
      "  409  417  420  429  432  446  450  452  459  468  472  486  487  489\n",
      "  508  509  527  530  542  545  547  548  563  570  573  577  580  582\n",
      "  583  585  597  602  606  608  610  611  616  627  633  639  645  654\n",
      "  662  664  675  676  682  694  695  697  701  708  719  724  727  731\n",
      "  733  734  735  737  757  759  760  763  764  771  778  779  782  784\n",
      "  785  788  789  791  792  793  795  800  804  807  809  812  819  821\n",
      "  827  828  835  837  844  845  861  865  866  869  871  872  874  876\n",
      "  883  885  889  890  897  906  911  914  920  921  932  933  954  984\n",
      "  989  992  995  997  998 1009 1016 1022 1029 1030 1031 1032 1050 1054\n",
      " 1057 1064 1071 1081 1083 1089 1090 1091 1093 1100 1115 1116 1124 1152\n",
      " 1158 1162 1167 1170 1174 1183 1187 1199 1201 1204 1210 1211 1213 1218\n",
      " 1227 1228 1231 1235 1236 1237 1238 1243 1247 1256 1259 1262 1269 1270\n",
      " 1273 1275 1280 1281 1284 1294 1297 1298 1300 1302 1306 1309 1310 1314\n",
      " 1315 1316 1345 1348 1354 1355 1371 1381 1384 1388 1392 1396 1405 1407\n",
      " 1408 1411 1420 1427 1430 1442 1450 1451 1453 1455 1460 1464 1475 1477\n",
      " 1480 1481 1483 1486 1488 1495 1498 1499 1500 1504 1505 1507 1519 1527\n",
      " 1531 1534 1544 1545 1548 1556 1557 1561 1571 1583 1585 1590]\n",
      "\n",
      "Fold_4\n",
      "TRAIN: [   0    2    3 ... 1597 1598 1599]\n",
      "TEST: [   1    5    9   10   18   22   46   58   66   68   74   92   99  107\n",
      "  111  122  125  126  132  138  140  147  148  151  153  156  157  166\n",
      "  168  172  175  178  179  180  182  193  197  199  202  206  216  217\n",
      "  225  227  231  246  252  253  262  264  268  291  293  294  298  302\n",
      "  305  309  310  315  319  320  335  337  338  343  345  356  357  361\n",
      "  362  364  368  372  375  378  380  381  384  403  415  418  428  430\n",
      "  440  441  443  444  455  463  465  477  478  494  496  499  506  516\n",
      "  520  521  525  531  533  534  535  538  543  549  550  553  555  559\n",
      "  561  572  575  579  587  591  593  598  599  600  612  613  618  619\n",
      "  622  623  625  629  631  632  634  641  646  649  655  658  659  669\n",
      "  671  672  674  678  679  684  685  688  689  690  691  696  698  705\n",
      "  707  723  725  726  730  736  740  748  752  754  756  770  773  783\n",
      "  786  802  803  805  811  815  825  831  838  841  852  853  858  862\n",
      "  867  868  886  892  894  898  900  905  916  923  926  929  931  960\n",
      "  967  970  972  978  980  985  988  996  999 1006 1010 1015 1021 1033\n",
      " 1037 1038 1046 1055 1056 1063 1067 1077 1079 1085 1095 1099 1101 1105\n",
      " 1112 1113 1118 1119 1126 1130 1131 1132 1134 1141 1149 1150 1153 1155\n",
      " 1160 1163 1166 1172 1173 1176 1177 1182 1188 1189 1192 1198 1205 1208\n",
      " 1214 1215 1220 1223 1233 1241 1244 1248 1252 1253 1258 1266 1274 1278\n",
      " 1287 1292 1303 1313 1324 1333 1349 1351 1353 1356 1363 1364 1365 1372\n",
      " 1373 1383 1385 1386 1394 1401 1416 1429 1438 1440 1443 1444 1446 1454\n",
      " 1461 1468 1470 1476 1478 1489 1493 1506 1508 1512 1513 1516 1525 1535\n",
      " 1542 1543 1547 1563 1564 1566 1578 1580 1588 1591 1593 1594]\n",
      "\n",
      "Fold_5\n",
      "TRAIN: [   0    1    2 ... 1596 1598 1599]\n",
      "TEST: [   3    7   11   12   17   27   29   31   38   47   50   54   61   64\n",
      "   65   70   73   75   76   77   79   85   97  102  116  121  127  128\n",
      "  133  134  143  154  158  159  165  171  173  174  181  183  188  190\n",
      "  191  196  208  209  211  212  213  220  221  235  243  250  254  256\n",
      "  258  277  279  280  284  286  287  289  290  295  296  303  304  312\n",
      "  313  317  322  324  328  333  336  340  351  354  358  370  376  389\n",
      "  398  401  413  416  422  431  433  437  438  447  451  454  469  475\n",
      "  485  488  490  491  495  497  498  500  501  512  513  514  515  529\n",
      "  532  537  544  556  560  565  566  568  571  578  588  603  621  624\n",
      "  637  638  643  647  653  657  661  668  670  686  693  699  704  720\n",
      "  721  722  728  765  772  776  787  796  801  810  816  820  824  829\n",
      "  830  832  833  850  854  857  870  875  878  879  880  882  887  891\n",
      "  896  903  912  917  939  940  942  943  944  945  946  947  948  950\n",
      "  951  952  955  957  963  964  968  971  973  974  979  981  982  983\n",
      "  991 1008 1020 1025 1028 1036 1042 1043 1044 1047 1051 1059 1065 1066\n",
      " 1072 1078 1088 1096 1102 1106 1108 1110 1114 1117 1120 1122 1123 1127\n",
      " 1128 1133 1135 1136 1140 1142 1143 1148 1156 1159 1185 1194 1196 1216\n",
      " 1217 1219 1221 1222 1224 1225 1226 1229 1234 1240 1249 1257 1263 1264\n",
      " 1271 1282 1290 1291 1301 1304 1312 1317 1320 1322 1323 1330 1337 1338\n",
      " 1340 1343 1350 1357 1358 1360 1374 1377 1379 1393 1397 1399 1402 1409\n",
      " 1413 1421 1422 1426 1431 1432 1434 1447 1456 1457 1459 1465 1466 1471\n",
      " 1472 1473 1479 1487 1497 1503 1509 1510 1514 1520 1524 1526 1529 1536\n",
      " 1539 1550 1551 1565 1569 1574 1575 1577 1579 1584 1587 1597]\n"
     ]
    }
   ],
   "source": [
    "xScale = ML.scaleData(x,scaletype='standardize')\n",
    "\n",
    "xPrep, _ = ML.PCAfeatureReduction(xScale, 0.9)\n",
    "# xPrep = xScale\n",
    "\n",
    "# splitting is stil done due to the  seed, data is split the same as\n",
    "# in training so model still sees unseen samples (default: seed =13)\n",
    "xTrain, xTest, yTrain, yTest, cv = ML.splitTrainTestData(xPrep,y,\n",
    "                                                         printSplit=True)\n",
    "\n"
   ]
  },
  {
   "cell_type": "code",
   "execution_count": 39,
   "metadata": {},
   "outputs": [
    {
     "name": "stderr",
     "output_type": "stream",
     "text": [
      "/Users/timstassen/opt/anaconda3/envs/rdkit/lib/python3.11/site-packages/sklearn/base.py:432: UserWarning: X has feature names, but SVC was fitted without feature names\n",
      "  warnings.warn(\n"
     ]
    },
    {
     "ename": "ValueError",
     "evalue": "X has 807 features, but SVC is expecting 536 features as input.",
     "output_type": "error",
     "traceback": [
      "\u001b[0;31m---------------------------------------------------------------------------\u001b[0m",
      "\u001b[0;31mValueError\u001b[0m                                Traceback (most recent call last)",
      "Cell \u001b[0;32mIn[39], line 9\u001b[0m\n\u001b[1;32m      5\u001b[0m \u001b[39mif\u001b[39;00m \u001b[39m'\u001b[39m\u001b[39mSMILES\u001b[39m\u001b[39m'\u001b[39m \u001b[39min\u001b[39;00m xTest:\n\u001b[1;32m      6\u001b[0m     xTest \u001b[39m=\u001b[39m xTest\u001b[39m.\u001b[39mdrop(columns\u001b[39m=\u001b[39m[\u001b[39m\"\u001b[39m\u001b[39mSMILES\u001b[39m\u001b[39m\"\u001b[39m])\n\u001b[0;32m----> 9\u001b[0m pred, balAcc, evaluationReport, confusionMatrix, predProb \u001b[39m=\u001b[39m ML\u001b[39m.\u001b[39;49mtestTrainedModel(xTest, yTest, model\u001b[39m=\u001b[39;49m\u001b[39mNone\u001b[39;49;00m, \n\u001b[1;32m     10\u001b[0m                                               savedModelfilename\u001b[39m=\u001b[39;49m\u001b[39m\"\u001b[39;49m\u001b[39mSupportVectorClassifier_PCA90_norm.pkl\u001b[39;49m\u001b[39m\"\u001b[39;49m,\n\u001b[1;32m     11\u001b[0m                                               scaledData\u001b[39m=\u001b[39;49m\u001b[39mTrue\u001b[39;49;00m, \n\u001b[1;32m     12\u001b[0m                                               scaledDatafile\u001b[39m=\u001b[39;49m\u001b[39mNone\u001b[39;49;00m)\n\u001b[1;32m     13\u001b[0m \u001b[39mprint\u001b[39m(pred,\u001b[39m'\u001b[39m\u001b[39m\\n\u001b[39;00m\u001b[39m'\u001b[39m, \u001b[39m'\u001b[39m\u001b[39mBalanced Accuracy:  \u001b[39m\u001b[39m'\u001b[39m, balAcc,\u001b[39m'\u001b[39m\u001b[39m\\n\u001b[39;00m\u001b[39m'\u001b[39m, evaluationReport, \u001b[39m'\u001b[39m\u001b[39m\\n\u001b[39;00m\u001b[39m'\u001b[39m, confusionMatrix, \u001b[39m'\u001b[39m\u001b[39m\\n\u001b[39;00m\u001b[39m'\u001b[39m, predProb)\n",
      "File \u001b[0;32m~/Desktop/8CC00/code/groupAssignment/MachineLearning.py:387\u001b[0m, in \u001b[0;36mtestTrainedModel\u001b[0;34m(xTest, yTest, model, savedModelfilename, scaledData, scaledDatafile)\u001b[0m\n\u001b[1;32m    384\u001b[0m     trainedModel \u001b[39m=\u001b[39m model\n\u001b[1;32m    386\u001b[0m \u001b[39mif\u001b[39;00m scaledData \u001b[39m==\u001b[39m \u001b[39mTrue\u001b[39;00m:\n\u001b[0;32m--> 387\u001b[0m     pred \u001b[39m=\u001b[39m trainedModel\u001b[39m.\u001b[39;49mpredict(xTest) \n\u001b[1;32m    388\u001b[0m \u001b[39melif\u001b[39;00m scaledDatafile \u001b[39m!=\u001b[39m \u001b[39mNone\u001b[39;00m:\n\u001b[1;32m    389\u001b[0m     scale \u001b[39m=\u001b[39m joblib\u001b[39m.\u001b[39mload(scaledDatafile)\n",
      "File \u001b[0;32m~/opt/anaconda3/envs/rdkit/lib/python3.11/site-packages/sklearn/model_selection/_search.py:499\u001b[0m, in \u001b[0;36mBaseSearchCV.predict\u001b[0;34m(self, X)\u001b[0m\n\u001b[1;32m    481\u001b[0m \u001b[39m\u001b[39m\u001b[39m\"\"\"Call predict on the estimator with the best found parameters.\u001b[39;00m\n\u001b[1;32m    482\u001b[0m \n\u001b[1;32m    483\u001b[0m \u001b[39mOnly available if ``refit=True`` and the underlying estimator supports\u001b[39;00m\n\u001b[0;32m   (...)\u001b[0m\n\u001b[1;32m    496\u001b[0m \u001b[39m    the best found parameters.\u001b[39;00m\n\u001b[1;32m    497\u001b[0m \u001b[39m\"\"\"\u001b[39;00m\n\u001b[1;32m    498\u001b[0m check_is_fitted(\u001b[39mself\u001b[39m)\n\u001b[0;32m--> 499\u001b[0m \u001b[39mreturn\u001b[39;00m \u001b[39mself\u001b[39;49m\u001b[39m.\u001b[39;49mbest_estimator_\u001b[39m.\u001b[39;49mpredict(X)\n",
      "File \u001b[0;32m~/opt/anaconda3/envs/rdkit/lib/python3.11/site-packages/sklearn/svm/_base.py:820\u001b[0m, in \u001b[0;36mBaseSVC.predict\u001b[0;34m(self, X)\u001b[0m\n\u001b[1;32m    818\u001b[0m     y \u001b[39m=\u001b[39m np\u001b[39m.\u001b[39margmax(\u001b[39mself\u001b[39m\u001b[39m.\u001b[39mdecision_function(X), axis\u001b[39m=\u001b[39m\u001b[39m1\u001b[39m)\n\u001b[1;32m    819\u001b[0m \u001b[39melse\u001b[39;00m:\n\u001b[0;32m--> 820\u001b[0m     y \u001b[39m=\u001b[39m \u001b[39msuper\u001b[39;49m()\u001b[39m.\u001b[39;49mpredict(X)\n\u001b[1;32m    821\u001b[0m \u001b[39mreturn\u001b[39;00m \u001b[39mself\u001b[39m\u001b[39m.\u001b[39mclasses_\u001b[39m.\u001b[39mtake(np\u001b[39m.\u001b[39masarray(y, dtype\u001b[39m=\u001b[39mnp\u001b[39m.\u001b[39mintp))\n",
      "File \u001b[0;32m~/opt/anaconda3/envs/rdkit/lib/python3.11/site-packages/sklearn/svm/_base.py:433\u001b[0m, in \u001b[0;36mBaseLibSVM.predict\u001b[0;34m(self, X)\u001b[0m\n\u001b[1;32m    417\u001b[0m \u001b[39mdef\u001b[39;00m \u001b[39mpredict\u001b[39m(\u001b[39mself\u001b[39m, X):\n\u001b[1;32m    418\u001b[0m \u001b[39m    \u001b[39m\u001b[39m\"\"\"Perform regression on samples in X.\u001b[39;00m\n\u001b[1;32m    419\u001b[0m \n\u001b[1;32m    420\u001b[0m \u001b[39m    For an one-class model, +1 (inlier) or -1 (outlier) is returned.\u001b[39;00m\n\u001b[0;32m   (...)\u001b[0m\n\u001b[1;32m    431\u001b[0m \u001b[39m        The predicted values.\u001b[39;00m\n\u001b[1;32m    432\u001b[0m \u001b[39m    \"\"\"\u001b[39;00m\n\u001b[0;32m--> 433\u001b[0m     X \u001b[39m=\u001b[39m \u001b[39mself\u001b[39;49m\u001b[39m.\u001b[39;49m_validate_for_predict(X)\n\u001b[1;32m    434\u001b[0m     predict \u001b[39m=\u001b[39m \u001b[39mself\u001b[39m\u001b[39m.\u001b[39m_sparse_predict \u001b[39mif\u001b[39;00m \u001b[39mself\u001b[39m\u001b[39m.\u001b[39m_sparse \u001b[39melse\u001b[39;00m \u001b[39mself\u001b[39m\u001b[39m.\u001b[39m_dense_predict\n\u001b[1;32m    435\u001b[0m     \u001b[39mreturn\u001b[39;00m predict(X)\n",
      "File \u001b[0;32m~/opt/anaconda3/envs/rdkit/lib/python3.11/site-packages/sklearn/svm/_base.py:613\u001b[0m, in \u001b[0;36mBaseLibSVM._validate_for_predict\u001b[0;34m(self, X)\u001b[0m\n\u001b[1;32m    610\u001b[0m check_is_fitted(\u001b[39mself\u001b[39m)\n\u001b[1;32m    612\u001b[0m \u001b[39mif\u001b[39;00m \u001b[39mnot\u001b[39;00m \u001b[39mcallable\u001b[39m(\u001b[39mself\u001b[39m\u001b[39m.\u001b[39mkernel):\n\u001b[0;32m--> 613\u001b[0m     X \u001b[39m=\u001b[39m \u001b[39mself\u001b[39;49m\u001b[39m.\u001b[39;49m_validate_data(\n\u001b[1;32m    614\u001b[0m         X,\n\u001b[1;32m    615\u001b[0m         accept_sparse\u001b[39m=\u001b[39;49m\u001b[39m\"\u001b[39;49m\u001b[39mcsr\u001b[39;49m\u001b[39m\"\u001b[39;49m,\n\u001b[1;32m    616\u001b[0m         dtype\u001b[39m=\u001b[39;49mnp\u001b[39m.\u001b[39;49mfloat64,\n\u001b[1;32m    617\u001b[0m         order\u001b[39m=\u001b[39;49m\u001b[39m\"\u001b[39;49m\u001b[39mC\u001b[39;49m\u001b[39m\"\u001b[39;49m,\n\u001b[1;32m    618\u001b[0m         accept_large_sparse\u001b[39m=\u001b[39;49m\u001b[39mFalse\u001b[39;49;00m,\n\u001b[1;32m    619\u001b[0m         reset\u001b[39m=\u001b[39;49m\u001b[39mFalse\u001b[39;49;00m,\n\u001b[1;32m    620\u001b[0m     )\n\u001b[1;32m    622\u001b[0m \u001b[39mif\u001b[39;00m \u001b[39mself\u001b[39m\u001b[39m.\u001b[39m_sparse \u001b[39mand\u001b[39;00m \u001b[39mnot\u001b[39;00m sp\u001b[39m.\u001b[39misspmatrix(X):\n\u001b[1;32m    623\u001b[0m     X \u001b[39m=\u001b[39m sp\u001b[39m.\u001b[39mcsr_matrix(X)\n",
      "File \u001b[0;32m~/opt/anaconda3/envs/rdkit/lib/python3.11/site-packages/sklearn/base.py:588\u001b[0m, in \u001b[0;36mBaseEstimator._validate_data\u001b[0;34m(self, X, y, reset, validate_separately, **check_params)\u001b[0m\n\u001b[1;32m    585\u001b[0m     out \u001b[39m=\u001b[39m X, y\n\u001b[1;32m    587\u001b[0m \u001b[39mif\u001b[39;00m \u001b[39mnot\u001b[39;00m no_val_X \u001b[39mand\u001b[39;00m check_params\u001b[39m.\u001b[39mget(\u001b[39m\"\u001b[39m\u001b[39mensure_2d\u001b[39m\u001b[39m\"\u001b[39m, \u001b[39mTrue\u001b[39;00m):\n\u001b[0;32m--> 588\u001b[0m     \u001b[39mself\u001b[39;49m\u001b[39m.\u001b[39;49m_check_n_features(X, reset\u001b[39m=\u001b[39;49mreset)\n\u001b[1;32m    590\u001b[0m \u001b[39mreturn\u001b[39;00m out\n",
      "File \u001b[0;32m~/opt/anaconda3/envs/rdkit/lib/python3.11/site-packages/sklearn/base.py:389\u001b[0m, in \u001b[0;36mBaseEstimator._check_n_features\u001b[0;34m(self, X, reset)\u001b[0m\n\u001b[1;32m    386\u001b[0m     \u001b[39mreturn\u001b[39;00m\n\u001b[1;32m    388\u001b[0m \u001b[39mif\u001b[39;00m n_features \u001b[39m!=\u001b[39m \u001b[39mself\u001b[39m\u001b[39m.\u001b[39mn_features_in_:\n\u001b[0;32m--> 389\u001b[0m     \u001b[39mraise\u001b[39;00m \u001b[39mValueError\u001b[39;00m(\n\u001b[1;32m    390\u001b[0m         \u001b[39mf\u001b[39m\u001b[39m\"\u001b[39m\u001b[39mX has \u001b[39m\u001b[39m{\u001b[39;00mn_features\u001b[39m}\u001b[39;00m\u001b[39m features, but \u001b[39m\u001b[39m{\u001b[39;00m\u001b[39mself\u001b[39m\u001b[39m.\u001b[39m\u001b[39m__class__\u001b[39m\u001b[39m.\u001b[39m\u001b[39m__name__\u001b[39m\u001b[39m}\u001b[39;00m\u001b[39m \u001b[39m\u001b[39m\"\u001b[39m\n\u001b[1;32m    391\u001b[0m         \u001b[39mf\u001b[39m\u001b[39m\"\u001b[39m\u001b[39mis expecting \u001b[39m\u001b[39m{\u001b[39;00m\u001b[39mself\u001b[39m\u001b[39m.\u001b[39mn_features_in_\u001b[39m}\u001b[39;00m\u001b[39m features as input.\u001b[39m\u001b[39m\"\u001b[39m\n\u001b[1;32m    392\u001b[0m     )\n",
      "\u001b[0;31mValueError\u001b[0m: X has 807 features, but SVC is expecting 536 features as input."
     ]
    }
   ],
   "source": [
    "# model in this case is the trained model \n",
    "\n",
    "# trainedModel = joblib.load(f\"RandomForestClassifier_PCA1_std.pkl\")\n",
    "\n",
    "if 'SMILES' in xTest:\n",
    "    xTest = xTest.drop(columns=[\"SMILES\"])\n",
    "\n",
    "\n",
    "pred, balAcc, evaluationReport, confusionMatrix, predProb = ML.testTrainedModel(xTest, yTest, model=None, \n",
    "                                              savedModelfilename=\"SupportVectorClassifier_PCA90_norm.pkl\",\n",
    "                                              scaledData=True, \n",
    "                                              scaledDatafile=None)\n",
    "print(pred,'\\n', 'Balanced Accuracy:  ', balAcc,'\\n', evaluationReport, '\\n', confusionMatrix, '\\n', predProb)\n"
   ]
  },
  {
   "attachments": {},
   "cell_type": "markdown",
   "metadata": {},
   "source": [
    "## For plotting"
   ]
  },
  {
   "cell_type": "code",
   "execution_count": 10,
   "metadata": {},
   "outputs": [
    {
     "name": "stdout",
     "output_type": "stream",
     "text": [
      "Fitting 5 folds for each of 12 candidates, totalling 60 fits\n"
     ]
    },
    {
     "name": "stdout",
     "output_type": "stream",
     "text": [
      "Best Random Forest Classifier: \n",
      " Parameters: {'max_features': 752, 'n_estimators': 500} \n",
      " balanced accuracy:  0.7501581552586615\n"
     ]
    }
   ],
   "source": [
    "xTrain.columns = xTrain.columns.astype(str)\n",
    "xTrain = xTrain.drop(columns=[\"SMILES\"])\n",
    "RFmodel, bestParam, RFgrid, param_grid, BestScoreRFgrid = ML.trainRF(xTrain, yTrain, cv)\n",
    "\n"
   ]
  },
  {
   "cell_type": "code",
   "execution_count": 11,
   "metadata": {},
   "outputs": [],
   "source": [
    "from sklearn import neighbors, metrics\n",
    "from sklearn.ensemble import RandomForestClassifier, GradientBoostingClassifier\n",
    "from sklearn.model_selection import train_test_split, StratifiedKFold, GridSearchCV\n",
    "\n",
    "scorer = metrics.make_scorer(metrics.balanced_accuracy_score)\n",
    "RFc = RandomForestClassifier()\n",
    "param_grid = {\"max_features\": [xTrain.shape[1] // 10, xTrain.shape[1] // 7, \n",
    "                               xTrain.shape[1] // 5, xTrain.shape[1] // 3], \n",
    "                  \"n_estimators\": [100, 250, 500]}\n",
    "RFgrid = GridSearchCV(RFc, param_grid, scoring=scorer, error_score=\"raise\",\n",
    "                           return_train_score=True, n_jobs=2, cv=cv, verbose=1)\n",
    "    "
   ]
  },
  {
   "cell_type": "code",
   "execution_count": 12,
   "metadata": {},
   "outputs": [
    {
     "ename": "NameError",
     "evalue": "name 'X' is not defined",
     "output_type": "error",
     "traceback": [
      "\u001b[0;31m---------------------------------------------------------------------------\u001b[0m",
      "\u001b[0;31mNameError\u001b[0m                                 Traceback (most recent call last)",
      "Cell \u001b[0;32mIn[12], line 8\u001b[0m\n\u001b[1;32m      5\u001b[0m mean_fpr \u001b[39m=\u001b[39m np\u001b[39m.\u001b[39mlinspace(\u001b[39m0\u001b[39m, \u001b[39m1\u001b[39m, \u001b[39m100\u001b[39m)\n\u001b[1;32m      7\u001b[0m fig, ax \u001b[39m=\u001b[39m plt\u001b[39m.\u001b[39msubplots(figsize\u001b[39m=\u001b[39m(\u001b[39m6\u001b[39m, \u001b[39m6\u001b[39m))\n\u001b[0;32m----> 8\u001b[0m \u001b[39mfor\u001b[39;00m fold, (train, test) \u001b[39min\u001b[39;00m \u001b[39menumerate\u001b[39m(cv\u001b[39m.\u001b[39msplit(X, y)):\n\u001b[1;32m      9\u001b[0m     classifier\u001b[39m.\u001b[39mfit(X[train], y[train])\n\u001b[1;32m     10\u001b[0m     viz \u001b[39m=\u001b[39m RocCurveDisplay\u001b[39m.\u001b[39mfrom_estimator(\n\u001b[1;32m     11\u001b[0m         classifier,\n\u001b[1;32m     12\u001b[0m         X[test],\n\u001b[0;32m   (...)\u001b[0m\n\u001b[1;32m     17\u001b[0m         ax\u001b[39m=\u001b[39max,\n\u001b[1;32m     18\u001b[0m     )\n",
      "\u001b[0;31mNameError\u001b[0m: name 'X' is not defined"
     ]
    },
    {
     "data": {
      "image/png": "[encoded data removed]",
      "text/plain": [
       "<Figure size 600x600 with 1 Axes>"
      ]
     },
     "metadata": {},
     "output_type": "display_data"
    }
   ],
   "source": [
    "import matplotlib.pyplot as plt\n",
    "from sklearn.metrics import RocCurveDisplay\n",
    "tprs = []\n",
    "aucs = []\n",
    "mean_fpr = np.linspace(0, 1, 100)\n",
    "\n",
    "fig, ax = plt.subplots(figsize=(6, 6))\n",
    "for fold, (train, test) in enumerate(cv.split(x, y)):\n",
    "    RFc.fit(xTrain, yTest[train])\n",
    "    viz = RocCurveDisplay.from_estimator(\n",
    "        classifier,\n",
    "        X[test],\n",
    "        y[test],\n",
    "        name=f\"ROC fold {fold}\",\n",
    "        alpha=0.3,\n",
    "        lw=1,\n",
    "        ax=ax,\n",
    "    )\n",
    "    interp_tpr = np.interp(mean_fpr, viz.fpr, viz.tpr)\n",
    "    interp_tpr[0] = 0.0\n",
    "    tprs.append(interp_tpr)\n",
    "    aucs.append(viz.roc_auc)\n",
    "ax.plot([0, 1], [0, 1], \"k--\", label=\"chance level (AUC = 0.5)\")\n",
    "\n",
    "mean_tpr = np.mean(tprs, axis=0)\n",
    "mean_tpr[-1] = 1.0\n",
    "mean_auc = auc(mean_fpr, mean_tpr)\n",
    "std_auc = np.std(aucs)\n",
    "ax.plot(\n",
    "    mean_fpr,\n",
    "    mean_tpr,\n",
    "    color=\"b\",\n",
    "    label=r\"Mean ROC (AUC = %0.2f $\\pm$ %0.2f)\" % (mean_auc, std_auc),\n",
    "    lw=2,\n",
    "    alpha=0.8,\n",
    ")\n",
    "\n",
    "std_tpr = np.std(tprs, axis=0)\n",
    "tprs_upper = np.minimum(mean_tpr + std_tpr, 1)\n",
    "tprs_lower = np.maximum(mean_tpr - std_tpr, 0)\n",
    "ax.fill_between(\n",
    "    mean_fpr,\n",
    "    tprs_lower,\n",
    "    tprs_upper,\n",
    "    color=\"grey\",\n",
    "    alpha=0.2,\n",
    "    label=r\"$\\pm$ 1 std. dev.\",\n",
    ")\n",
    "\n",
    "ax.set(\n",
    "    xlim=[-0.05, 1.05],\n",
    "    ylim=[-0.05, 1.05],\n",
    "    xlabel=\"False Positive Rate\",\n",
    "    ylabel=\"True Positive Rate\",\n",
    "    title=f\"Mean ROC curve with variability\\n(Positive label '{target_names[1]}')\",\n",
    ")\n",
    "ax.axis(\"square\")\n",
    "ax.legend(loc=\"lower right\")\n",
    "plt.show()"
   ]
  },
  {
   "cell_type": "code",
   "execution_count": null,
   "metadata": {},
   "outputs": [],
   "source": []
  }
 ],
 "metadata": {
  "kernelspec": {
   "display_name": "rdkit",
   "language": "python",
   "name": "python3"
  },
  "language_info": {
   "codemirror_mode": {
    "name": "ipython",
    "version": 3
   },
   "file_extension": ".py",
   "mimetype": "text/x-python",
   "name": "python",
   "nbconvert_exporter": "python",
   "pygments_lexer": "ipython3",
   "version": "3.11.3"
  },
  "orig_nbformat": 4
 },
 "nbformat": 4,
 "nbformat_minor": 2
}
