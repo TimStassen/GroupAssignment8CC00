{
 "cells": [
  {
   "attachments": {},
   "cell_type": "markdown",
   "metadata": {},
   "source": [
    "### Prediction of the best 100 molecules in the untested dataset\n",
    "in findBestModel.ipynb is found thart model RandomForestClassifier_PCA1_std.pkl showed the best test score of all tried settings in the trained models. "
   ]
  },
  {
   "cell_type": "code",
   "execution_count": 1,
   "metadata": {},
   "outputs": [],
   "source": [
    "import pandas as pd\n",
    "import MachineLearning  as ml\n",
    "import joblib\n",
    "from rdkit import Chem, DataStructs, RDLogger\n",
    "from rdkit.Chem import Draw, Descriptors, AllChem"
   ]
  },
  {
   "cell_type": "code",
   "execution_count": 2,
   "metadata": {},
   "outputs": [
    {
     "name": "stderr",
     "output_type": "stream",
     "text": [
      "2023-06-18 17:16:35.105 python[29807:1285251] +[CATransaction synchronize] called within transaction\n",
      "2023-06-18 17:16:35.419 python[29807:1285251] +[CATransaction synchronize] called within transaction\n"
     ]
    },
    {
     "name": "stdout",
     "output_type": "stream",
     "text": [
      "All molecules stored in: AllTestedMols.txt\n"
     ]
    }
   ],
   "source": [
    "# import untested dataset \n",
    "molecules = ml.importFiles(nrFiles=1)\n",
    "\n",
    "ml.writeNewMolfile(molecules)\n",
    "allDescrs = ml.createDescriptorDf()\n",
    "x = ml.generateMorganFingerprint()\n",
    "# there is no target\n",
    "# y = molecules[1][1:].astype(int)\n",
    "\n",
    "x, xDims = ml.CombineDescriptorsAndFigerprints(x,allDescrs)\n",
    "\n",
    "xScale = ml.scaleData(x,scaletype='standardize')"
   ]
  },
  {
   "cell_type": "code",
   "execution_count": 10,
   "metadata": {},
   "outputs": [],
   "source": [
    "# xScale.head()\n",
    "q = xScale.iloc[:4]"
   ]
  },
  {
   "cell_type": "code",
   "execution_count": 6,
   "metadata": {},
   "outputs": [],
   "source": [
    "# save since previous step takes a lot of time\n",
    "import numpy as np\n",
    "np.save('ScaledDescriporData.npy', xScale)"
   ]
  },
  {
   "cell_type": "code",
   "execution_count": 17,
   "metadata": {},
   "outputs": [],
   "source": [
    "smiles = xScale[\"SMILES\"]\n",
    "xScaleNoSMILES = xScale.drop(columns=[\"SMILES\"])"
   ]
  },
  {
   "cell_type": "code",
   "execution_count": 18,
   "metadata": {},
   "outputs": [],
   "source": [
    "trainedModel = joblib.load(\"RandomForestClassifier_PCA1_std.pkl\")\n",
    "predProb = trainedModel.predict_proba(xScaleNoSMILES)\n",
    "predProbDf = pd.DataFrame(predProb)\n",
    "predProbDf.insert(loc=0, column='SMILES', value=smiles)"
   ]
  },
  {
   "cell_type": "code",
   "execution_count": 22,
   "metadata": {},
   "outputs": [
    {
     "data": {
      "text/html": [
       "<div>\n",
       "<style scoped>\n",
       "    .dataframe tbody tr th:only-of-type {\n",
       "        vertical-align: middle;\n",
       "    }\n",
       "\n",
       "    .dataframe tbody tr th {\n",
       "        vertical-align: top;\n",
       "    }\n",
       "\n",
       "    .dataframe thead th {\n",
       "        text-align: right;\n",
       "    }\n",
       "</style>\n",
       "<table border=\"1\" class=\"dataframe\">\n",
       "  <thead>\n",
       "    <tr style=\"text-align: right;\">\n",
       "      <th></th>\n",
       "      <th>SMILES</th>\n",
       "      <th>0</th>\n",
       "      <th>1</th>\n",
       "    </tr>\n",
       "  </thead>\n",
       "  <tbody>\n",
       "    <tr>\n",
       "      <th>0</th>\n",
       "      <td>CCCCC/C(=N\\NC(=O)CCC(=O)NCc1ccccc1)c1ccccc1</td>\n",
       "      <td>0.38</td>\n",
       "      <td>0.62</td>\n",
       "    </tr>\n",
       "    <tr>\n",
       "      <th>1</th>\n",
       "      <td>Cc1ccc(S(=O)(=O)N2CCC(C(=O)OCC(=O)N3CCc4ccccc4...</td>\n",
       "      <td>0.27</td>\n",
       "      <td>0.73</td>\n",
       "    </tr>\n",
       "    <tr>\n",
       "      <th>2</th>\n",
       "      <td>COc1ccc(N2C(=O)CC(Nc3ccc(F)cc3)C2=O)c([N+](=O)...</td>\n",
       "      <td>0.44</td>\n",
       "      <td>0.56</td>\n",
       "    </tr>\n",
       "    <tr>\n",
       "      <th>3</th>\n",
       "      <td>Cc1cc(C)cc(OCC(=O)O[NH+]=C(N)Cc2ccc([N+](=O)[O...</td>\n",
       "      <td>0.56</td>\n",
       "      <td>0.44</td>\n",
       "    </tr>\n",
       "  </tbody>\n",
       "</table>\n",
       "</div>"
      ],
      "text/plain": [
       "                                              SMILES     0     1\n",
       "0        CCCCC/C(=N\\NC(=O)CCC(=O)NCc1ccccc1)c1ccccc1  0.38  0.62\n",
       "1  Cc1ccc(S(=O)(=O)N2CCC(C(=O)OCC(=O)N3CCc4ccccc4...  0.27  0.73\n",
       "2  COc1ccc(N2C(=O)CC(Nc3ccc(F)cc3)C2=O)c([N+](=O)...  0.44  0.56\n",
       "3  Cc1cc(C)cc(OCC(=O)O[NH+]=C(N)Cc2ccc([N+](=O)[O...  0.56  0.44"
      ]
     },
     "execution_count": 22,
     "metadata": {},
     "output_type": "execute_result"
    }
   ],
   "source": [
    "predProbDf.iloc[:4,:]"
   ]
  },
  {
   "cell_type": "code",
   "execution_count": 27,
   "metadata": {},
   "outputs": [],
   "source": [
    "predProbDfSort = predProbDf.sort_values(by=1, ascending=False)\n",
    "top100Mols = predProbDfSort.head(100)"
   ]
  },
  {
   "cell_type": "code",
   "execution_count": 4,
   "metadata": {},
   "outputs": [
    {
     "name": "stderr",
     "output_type": "stream",
     "text": [
      "2023-06-19 22:54:21.799 python[49104:2235406] +[CATransaction synchronize] called within transaction\n",
      "2023-06-19 22:54:21.945 python[49104:2235406] +[CATransaction synchronize] called within transaction\n",
      "2023-06-19 22:54:22.244 python[49104:2235406] +[CATransaction synchronize] called within transaction\n"
     ]
    }
   ],
   "source": [
    "import MachineLearning  as ml\n",
    "top100MolsWithProbs = ml.top100molecules('RandomForestClassifier_PCA999_std.pkl', 0.999)\n",
    "top100Mols = top100MolsWithProbs['SMILES']\n",
    "top100Mols.to_csv('top100UntestedMoleculesT.csv', index=False)"
   ]
  },
  {
   "cell_type": "code",
   "execution_count": 3,
   "metadata": {},
   "outputs": [],
   "source": []
  },
  {
   "cell_type": "code",
   "execution_count": null,
   "metadata": {},
   "outputs": [],
   "source": []
  }
 ],
 "metadata": {
  "kernelspec": {
   "display_name": "rdkit",
   "language": "python",
   "name": "python3"
  },
  "language_info": {
   "codemirror_mode": {
    "name": "ipython",
    "version": 3
   },
   "file_extension": ".py",
   "mimetype": "text/x-python",
   "name": "python",
   "nbconvert_exporter": "python",
   "pygments_lexer": "ipython3",
   "version": "3.11.3"
  },
  "orig_nbformat": 4
 },
 "nbformat": 4,
 "nbformat_minor": 2
}
