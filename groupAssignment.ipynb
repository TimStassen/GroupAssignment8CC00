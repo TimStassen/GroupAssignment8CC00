{
 "cells": [
  {
   "attachments": {},
   "cell_type": "markdown",
   "metadata": {},
   "source": [
    "# molecular descriptors for ALDH1 inhibitors:\n",
    "\n",
    "Different descriptors can be determined on the given molecules to find a (causal) relation between the molecule and the ability to inhibit ALDH1. \n",
    "\n",
    "Molecular descriptors are for instance: \n",
    "-   molecular mass\n",
    "-   nr carbon atoms\n",
    "-   nr hydrogen atoms  \n",
    "-   nr of bonds\n",
    "-   nr of branches\n",
    "-   nr double bindings\n",
    "-   nr triple bindings\n",
    "-   cyclic structures\n",
    "-   Aromaticity (indicated by lower letters)\n",
    "    -   aromatic nitrogen\n",
    "-   (tetra hedral) chirality\n",
    "- nr of rings (e.g. cubane)\n",
    "\n",
    "### rdkit has automatic implemented descriptors and Fingerprints:\n",
    "\n",
    "This is used now for the generation of descriptors. also a couple of fingerprint variables can be included. \n"
   ]
  },
  {
   "cell_type": "code",
   "execution_count": 11,
   "metadata": {},
   "outputs": [],
   "source": [
    "import numpy as np\n",
    "import pandas as pd\n",
    "from tkinter import filedialog as fd\n",
    "from rdkit import Chem\n",
    "from rdkit.Chem.Draw import IPythonConsole\n",
    "from rdkit.Chem import Draw\n",
    "from rdkit.Chem import Descriptors\n",
    "from rdkit.ML.Descriptors.MoleculeDescriptors import MolecularDescriptorCalculator\n",
    "IPythonConsole.ipython_useSVG=True\n"
   ]
  },
  {
   "cell_type": "code",
   "execution_count": 3,
   "metadata": {},
   "outputs": [],
   "source": [
    "def getMolDescriptors(mol, missingVal=None):\n",
    "    ''' calculate the full list of descriptors for a molecule\n",
    "    \n",
    "        missingVal is used if the descriptor cannot be calculated\n",
    "    '''\n",
    "    res = {}\n",
    "    for nm,fn in Descriptors._descList:\n",
    "        # some of the descriptor fucntions can throw errors if they fail, catch those here:\n",
    "        try:\n",
    "            val = fn(mol)\n",
    "        except:\n",
    "            # print the error message:\n",
    "            import traceback\n",
    "            traceback.print_exc()\n",
    "            # and set the descriptor value to whatever missingVal is\n",
    "            val = missingVal\n",
    "        res[nm] = val\n",
    "    return res"
   ]
  },
  {
   "cell_type": "code",
   "execution_count": 32,
   "metadata": {},
   "outputs": [
    {
     "name": "stderr",
     "output_type": "stream",
     "text": [
      "2023-05-31 08:46:46.289 python[77074:8384875] +[CATransaction synchronize] called within transaction\n",
      "2023-05-31 08:46:46.392 python[77074:8384875] +[CATransaction synchronize] called within transaction\n",
      "2023-05-31 08:46:46.447 python[77074:8384875] +[CATransaction synchronize] called within transaction\n",
      "2023-05-31 08:46:46.712 python[77074:8384875] +[CATransaction synchronize] called within transaction\n",
      "2023-05-31 08:46:47.708 python[77074:8384875] +[CATransaction synchronize] called within transaction\n"
     ]
    }
   ],
   "source": [
    "filename = fd.askopenfilename()\n",
    "AHDL1Inhibitors = pd.read_csv(filename ,header = None)"
   ]
  },
  {
   "cell_type": "code",
   "execution_count": 34,
   "metadata": {},
   "outputs": [
    {
     "name": "stdout",
     "output_type": "stream",
     "text": [
      "Done\n"
     ]
    }
   ],
   "source": [
    "allTestedMolecules = AHDL1Inhibitors[0][0:4] # firts 3 for testing, needs to change for all molecules (remove[0:4])\n",
    "MolList = allTestedMolecules.values.tolist()\n",
    "with open('AllTestedMols.txt', 'w') as fp:\n",
    "    for mol in MolList:\n",
    "        # write each item on a new line\n",
    "        fp.write(\"%s\\n\" % mol)\n",
    "    print('Done')\n"
   ]
  },
  {
   "cell_type": "code",
   "execution_count": 36,
   "metadata": {},
   "outputs": [
    {
     "name": "stderr",
     "output_type": "stream",
     "text": [
      "[08:50:53] WARNING: no name column found on line 1\n",
      "[08:50:53] WARNING: no name column found on line 2\n",
      "[08:50:53] WARNING: no name column found on line 3\n"
     ]
    }
   ],
   "source": [
    "suppl = Chem.SmilesMolSupplier('AllTestedMols.txt')\n",
    "mols = [m for m in suppl]\n",
    "# len(mols)\n"
   ]
  },
  {
   "cell_type": "code",
   "execution_count": 37,
   "metadata": {},
   "outputs": [
    {
     "data": {
      "text/html": [
       "<div>\n",
       "<style scoped>\n",
       "    .dataframe tbody tr th:only-of-type {\n",
       "        vertical-align: middle;\n",
       "    }\n",
       "\n",
       "    .dataframe tbody tr th {\n",
       "        vertical-align: top;\n",
       "    }\n",
       "\n",
       "    .dataframe thead th {\n",
       "        text-align: right;\n",
       "    }\n",
       "</style>\n",
       "<table border=\"1\" class=\"dataframe\">\n",
       "  <thead>\n",
       "    <tr style=\"text-align: right;\">\n",
       "      <th></th>\n",
       "      <th>MaxAbsEStateIndex</th>\n",
       "      <th>MaxEStateIndex</th>\n",
       "      <th>MinAbsEStateIndex</th>\n",
       "      <th>MinEStateIndex</th>\n",
       "      <th>qed</th>\n",
       "      <th>MolWt</th>\n",
       "      <th>HeavyAtomMolWt</th>\n",
       "      <th>ExactMolWt</th>\n",
       "      <th>NumValenceElectrons</th>\n",
       "      <th>NumRadicalElectrons</th>\n",
       "      <th>...</th>\n",
       "      <th>fr_sulfide</th>\n",
       "      <th>fr_sulfonamd</th>\n",
       "      <th>fr_sulfone</th>\n",
       "      <th>fr_term_acetylene</th>\n",
       "      <th>fr_tetrazole</th>\n",
       "      <th>fr_thiazole</th>\n",
       "      <th>fr_thiocyan</th>\n",
       "      <th>fr_thiophene</th>\n",
       "      <th>fr_unbrch_alkane</th>\n",
       "      <th>fr_urea</th>\n",
       "    </tr>\n",
       "  </thead>\n",
       "  <tbody>\n",
       "    <tr>\n",
       "      <th>0</th>\n",
       "      <td>13.083531</td>\n",
       "      <td>13.083531</td>\n",
       "      <td>0.001173</td>\n",
       "      <td>-0.683140</td>\n",
       "      <td>0.520365</td>\n",
       "      <td>463.542</td>\n",
       "      <td>434.310</td>\n",
       "      <td>463.233188</td>\n",
       "      <td>178</td>\n",
       "      <td>0</td>\n",
       "      <td>...</td>\n",
       "      <td>0</td>\n",
       "      <td>0</td>\n",
       "      <td>0</td>\n",
       "      <td>0</td>\n",
       "      <td>1</td>\n",
       "      <td>0</td>\n",
       "      <td>0</td>\n",
       "      <td>0</td>\n",
       "      <td>0</td>\n",
       "      <td>0</td>\n",
       "    </tr>\n",
       "    <tr>\n",
       "      <th>1</th>\n",
       "      <td>12.170097</td>\n",
       "      <td>12.170097</td>\n",
       "      <td>0.066966</td>\n",
       "      <td>-0.066966</td>\n",
       "      <td>0.498564</td>\n",
       "      <td>378.457</td>\n",
       "      <td>360.313</td>\n",
       "      <td>378.115047</td>\n",
       "      <td>136</td>\n",
       "      <td>0</td>\n",
       "      <td>...</td>\n",
       "      <td>1</td>\n",
       "      <td>0</td>\n",
       "      <td>0</td>\n",
       "      <td>0</td>\n",
       "      <td>0</td>\n",
       "      <td>0</td>\n",
       "      <td>0</td>\n",
       "      <td>0</td>\n",
       "      <td>0</td>\n",
       "      <td>0</td>\n",
       "    </tr>\n",
       "    <tr>\n",
       "      <th>2</th>\n",
       "      <td>10.905837</td>\n",
       "      <td>10.905837</td>\n",
       "      <td>0.016881</td>\n",
       "      <td>-0.016881</td>\n",
       "      <td>0.382043</td>\n",
       "      <td>477.589</td>\n",
       "      <td>444.325</td>\n",
       "      <td>477.260865</td>\n",
       "      <td>184</td>\n",
       "      <td>0</td>\n",
       "      <td>...</td>\n",
       "      <td>0</td>\n",
       "      <td>0</td>\n",
       "      <td>0</td>\n",
       "      <td>0</td>\n",
       "      <td>1</td>\n",
       "      <td>0</td>\n",
       "      <td>0</td>\n",
       "      <td>0</td>\n",
       "      <td>0</td>\n",
       "      <td>0</td>\n",
       "    </tr>\n",
       "  </tbody>\n",
       "</table>\n",
       "<p>3 rows × 209 columns</p>\n",
       "</div>"
      ],
      "text/plain": [
       "   MaxAbsEStateIndex  MaxEStateIndex  MinAbsEStateIndex  MinEStateIndex  \\\n",
       "0          13.083531       13.083531           0.001173       -0.683140   \n",
       "1          12.170097       12.170097           0.066966       -0.066966   \n",
       "2          10.905837       10.905837           0.016881       -0.016881   \n",
       "\n",
       "        qed    MolWt  HeavyAtomMolWt  ExactMolWt  NumValenceElectrons  \\\n",
       "0  0.520365  463.542         434.310  463.233188                  178   \n",
       "1  0.498564  378.457         360.313  378.115047                  136   \n",
       "2  0.382043  477.589         444.325  477.260865                  184   \n",
       "\n",
       "   NumRadicalElectrons  ...  fr_sulfide  fr_sulfonamd  fr_sulfone  \\\n",
       "0                    0  ...           0             0           0   \n",
       "1                    0  ...           1             0           0   \n",
       "2                    0  ...           0             0           0   \n",
       "\n",
       "   fr_term_acetylene  fr_tetrazole  fr_thiazole  fr_thiocyan  fr_thiophene  \\\n",
       "0                  0             1            0            0             0   \n",
       "1                  0             0            0            0             0   \n",
       "2                  0             1            0            0             0   \n",
       "\n",
       "   fr_unbrch_alkane  fr_urea  \n",
       "0                 0        0  \n",
       "1                 0        0  \n",
       "2                 0        0  \n",
       "\n",
       "[3 rows x 209 columns]"
      ]
     },
     "execution_count": 37,
     "metadata": {},
     "output_type": "execute_result"
    }
   ],
   "source": [
    "allDescrs = [getMolDescriptors(m) for m in mols]\n",
    "df = pd.DataFrame(allDescrs)\n",
    "df.head()"
   ]
  },
  {
   "cell_type": "code",
   "execution_count": null,
   "metadata": {},
   "outputs": [],
   "source": []
  }
 ],
 "metadata": {
  "kernelspec": {
   "display_name": "rdkit",
   "language": "python",
   "name": "python3"
  },
  "language_info": {
   "codemirror_mode": {
    "name": "ipython",
    "version": 3
   },
   "file_extension": ".py",
   "mimetype": "text/x-python",
   "name": "python",
   "nbconvert_exporter": "python",
   "pygments_lexer": "ipython3",
   "version": "3.11.3"
  },
  "orig_nbformat": 4
 },
 "nbformat": 4,
 "nbformat_minor": 2
}
